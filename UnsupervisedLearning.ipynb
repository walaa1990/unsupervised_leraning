{
 "cells": [
  {
   "cell_type": "code",
   "execution_count": 1,
   "id": "9cb04aa2",
   "metadata": {},
   "outputs": [],
   "source": [
    "import pandas as pd\n",
    "import numpy as np\n",
    "import matplotlib.pyplot as plt\n",
    "import seaborn as sns\n",
    "from sklearn.decomposition import PCA\n",
    "from sklearn.preprocessing import StandardScaler\n",
    "from sklearn.cluster import KMeans\n",
    "from sklearn.metrics import silhouette_score\n",
    "import warnings\n",
    "warnings.filterwarnings('ignore')\n",
    "%matplotlib inline"
   ]
  },
  {
   "cell_type": "markdown",
   "id": "e44c7b70",
   "metadata": {},
   "source": [
    "### Data Preparation"
   ]
  },
  {
   "cell_type": "code",
   "execution_count": 2,
   "id": "7c8f1195",
   "metadata": {},
   "outputs": [],
   "source": [
    "df = pd.read_excel('Online Retail.xlsx', sheet_name='Online Retail')"
   ]
  },
  {
   "cell_type": "code",
   "execution_count": 3,
   "id": "a4b7117e",
   "metadata": {},
   "outputs": [
    {
     "data": {
      "text/html": [
       "<div>\n",
       "<style scoped>\n",
       "    .dataframe tbody tr th:only-of-type {\n",
       "        vertical-align: middle;\n",
       "    }\n",
       "\n",
       "    .dataframe tbody tr th {\n",
       "        vertical-align: top;\n",
       "    }\n",
       "\n",
       "    .dataframe thead th {\n",
       "        text-align: right;\n",
       "    }\n",
       "</style>\n",
       "<table border=\"1\" class=\"dataframe\">\n",
       "  <thead>\n",
       "    <tr style=\"text-align: right;\">\n",
       "      <th></th>\n",
       "      <th>InvoiceNo</th>\n",
       "      <th>StockCode</th>\n",
       "      <th>Description</th>\n",
       "      <th>Quantity</th>\n",
       "      <th>InvoiceDate</th>\n",
       "      <th>UnitPrice</th>\n",
       "      <th>CustomerID</th>\n",
       "      <th>Country</th>\n",
       "    </tr>\n",
       "  </thead>\n",
       "  <tbody>\n",
       "    <tr>\n",
       "      <th>0</th>\n",
       "      <td>536365</td>\n",
       "      <td>85123A</td>\n",
       "      <td>WHITE HANGING HEART T-LIGHT HOLDER</td>\n",
       "      <td>6</td>\n",
       "      <td>2010-12-01 08:26:00</td>\n",
       "      <td>2.55</td>\n",
       "      <td>17850.0</td>\n",
       "      <td>United Kingdom</td>\n",
       "    </tr>\n",
       "    <tr>\n",
       "      <th>1</th>\n",
       "      <td>536365</td>\n",
       "      <td>71053</td>\n",
       "      <td>WHITE METAL LANTERN</td>\n",
       "      <td>6</td>\n",
       "      <td>2010-12-01 08:26:00</td>\n",
       "      <td>3.39</td>\n",
       "      <td>17850.0</td>\n",
       "      <td>United Kingdom</td>\n",
       "    </tr>\n",
       "    <tr>\n",
       "      <th>2</th>\n",
       "      <td>536365</td>\n",
       "      <td>84406B</td>\n",
       "      <td>CREAM CUPID HEARTS COAT HANGER</td>\n",
       "      <td>8</td>\n",
       "      <td>2010-12-01 08:26:00</td>\n",
       "      <td>2.75</td>\n",
       "      <td>17850.0</td>\n",
       "      <td>United Kingdom</td>\n",
       "    </tr>\n",
       "    <tr>\n",
       "      <th>3</th>\n",
       "      <td>536365</td>\n",
       "      <td>84029G</td>\n",
       "      <td>KNITTED UNION FLAG HOT WATER BOTTLE</td>\n",
       "      <td>6</td>\n",
       "      <td>2010-12-01 08:26:00</td>\n",
       "      <td>3.39</td>\n",
       "      <td>17850.0</td>\n",
       "      <td>United Kingdom</td>\n",
       "    </tr>\n",
       "    <tr>\n",
       "      <th>4</th>\n",
       "      <td>536365</td>\n",
       "      <td>84029E</td>\n",
       "      <td>RED WOOLLY HOTTIE WHITE HEART.</td>\n",
       "      <td>6</td>\n",
       "      <td>2010-12-01 08:26:00</td>\n",
       "      <td>3.39</td>\n",
       "      <td>17850.0</td>\n",
       "      <td>United Kingdom</td>\n",
       "    </tr>\n",
       "  </tbody>\n",
       "</table>\n",
       "</div>"
      ],
      "text/plain": [
       "  InvoiceNo StockCode                          Description  Quantity  \\\n",
       "0    536365    85123A   WHITE HANGING HEART T-LIGHT HOLDER         6   \n",
       "1    536365     71053                  WHITE METAL LANTERN         6   \n",
       "2    536365    84406B       CREAM CUPID HEARTS COAT HANGER         8   \n",
       "3    536365    84029G  KNITTED UNION FLAG HOT WATER BOTTLE         6   \n",
       "4    536365    84029E       RED WOOLLY HOTTIE WHITE HEART.         6   \n",
       "\n",
       "          InvoiceDate  UnitPrice  CustomerID         Country  \n",
       "0 2010-12-01 08:26:00       2.55     17850.0  United Kingdom  \n",
       "1 2010-12-01 08:26:00       3.39     17850.0  United Kingdom  \n",
       "2 2010-12-01 08:26:00       2.75     17850.0  United Kingdom  \n",
       "3 2010-12-01 08:26:00       3.39     17850.0  United Kingdom  \n",
       "4 2010-12-01 08:26:00       3.39     17850.0  United Kingdom  "
      ]
     },
     "execution_count": 3,
     "metadata": {},
     "output_type": "execute_result"
    }
   ],
   "source": [
    "df.head()"
   ]
  },
  {
   "cell_type": "code",
   "execution_count": 4,
   "id": "f27fe40c",
   "metadata": {},
   "outputs": [
    {
     "data": {
      "text/plain": [
       "(541909, 8)"
      ]
     },
     "execution_count": 4,
     "metadata": {},
     "output_type": "execute_result"
    }
   ],
   "source": [
    "df.shape"
   ]
  },
  {
   "cell_type": "markdown",
   "id": "d211309a",
   "metadata": {},
   "source": [
    "### Feature Engineering"
   ]
  },
  {
   "cell_type": "code",
   "execution_count": 5,
   "id": "e1d1cae2",
   "metadata": {},
   "outputs": [],
   "source": [
    "df = df[df['Country'].isin (['United Kingdom', 'Germany', 'France', 'EIRE', 'Spain', 'Netherlands','Belgium', 'Switzerland', 'Portugal', 'Australia', 'Norway', 'Italy'])]\n",
    "df['year'] = df['InvoiceDate'].dt.year\n",
    "df['month'] = df['InvoiceDate'].dt.month\n",
    "df['price_total'] = df['Quantity']*df['UnitPrice']"
   ]
  },
  {
   "cell_type": "code",
   "execution_count": 6,
   "id": "e931487c",
   "metadata": {},
   "outputs": [
    {
     "data": {
      "text/plain": [
       "InvoiceNo           0\n",
       "StockCode           0\n",
       "Description      1454\n",
       "Quantity            0\n",
       "InvoiceDate         0\n",
       "UnitPrice           0\n",
       "CustomerID     134541\n",
       "Country             0\n",
       "year                0\n",
       "month               0\n",
       "price_total         0\n",
       "dtype: int64"
      ]
     },
     "execution_count": 6,
     "metadata": {},
     "output_type": "execute_result"
    }
   ],
   "source": [
    "df.isna().sum()"
   ]
  },
  {
   "cell_type": "code",
   "execution_count": 7,
   "id": "88ed3621",
   "metadata": {},
   "outputs": [
    {
     "data": {
      "text/plain": [
       "5244"
      ]
     },
     "execution_count": 7,
     "metadata": {},
     "output_type": "execute_result"
    }
   ],
   "source": [
    "df.duplicated().sum()"
   ]
  },
  {
   "cell_type": "code",
   "execution_count": 8,
   "id": "41cd9401",
   "metadata": {},
   "outputs": [],
   "source": [
    "df.drop_duplicates(inplace=True)"
   ]
  },
  {
   "cell_type": "code",
   "execution_count": 9,
   "id": "eaee005e",
   "metadata": {},
   "outputs": [],
   "source": [
    "df.drop(['InvoiceNo', 'StockCode', 'Description', 'CustomerID', 'InvoiceDate'], axis=1, inplace=True)"
   ]
  },
  {
   "cell_type": "code",
   "execution_count": 10,
   "id": "ffa5e61d",
   "metadata": {},
   "outputs": [
    {
     "data": {
      "text/plain": [
       "(530124, 6)"
      ]
     },
     "execution_count": 10,
     "metadata": {},
     "output_type": "execute_result"
    }
   ],
   "source": [
    "df.shape"
   ]
  },
  {
   "cell_type": "code",
   "execution_count": 11,
   "id": "05754454",
   "metadata": {},
   "outputs": [
    {
     "name": "stdout",
     "output_type": "stream",
     "text": [
      "<class 'pandas.core.frame.DataFrame'>\n",
      "Int64Index: 530124 entries, 0 to 541908\n",
      "Data columns (total 6 columns):\n",
      " #   Column       Non-Null Count   Dtype  \n",
      "---  ------       --------------   -----  \n",
      " 0   Quantity     530124 non-null  int64  \n",
      " 1   UnitPrice    530124 non-null  float64\n",
      " 2   Country      530124 non-null  object \n",
      " 3   year         530124 non-null  int64  \n",
      " 4   month        530124 non-null  int64  \n",
      " 5   price_total  530124 non-null  float64\n",
      "dtypes: float64(2), int64(3), object(1)\n",
      "memory usage: 28.3+ MB\n"
     ]
    }
   ],
   "source": [
    "df.info()"
   ]
  },
  {
   "cell_type": "code",
   "execution_count": 12,
   "id": "5f0d5911",
   "metadata": {},
   "outputs": [
    {
     "data": {
      "text/html": [
       "<div>\n",
       "<style scoped>\n",
       "    .dataframe tbody tr th:only-of-type {\n",
       "        vertical-align: middle;\n",
       "    }\n",
       "\n",
       "    .dataframe tbody tr th {\n",
       "        vertical-align: top;\n",
       "    }\n",
       "\n",
       "    .dataframe thead th {\n",
       "        text-align: right;\n",
       "    }\n",
       "</style>\n",
       "<table border=\"1\" class=\"dataframe\">\n",
       "  <thead>\n",
       "    <tr style=\"text-align: right;\">\n",
       "      <th></th>\n",
       "      <th>Quantity</th>\n",
       "      <th>UnitPrice</th>\n",
       "      <th>Country</th>\n",
       "      <th>year</th>\n",
       "      <th>month</th>\n",
       "      <th>price_total</th>\n",
       "    </tr>\n",
       "  </thead>\n",
       "  <tbody>\n",
       "    <tr>\n",
       "      <th>521516</th>\n",
       "      <td>1</td>\n",
       "      <td>3.29</td>\n",
       "      <td>United Kingdom</td>\n",
       "      <td>2011</td>\n",
       "      <td>12</td>\n",
       "      <td>3.29</td>\n",
       "    </tr>\n",
       "  </tbody>\n",
       "</table>\n",
       "</div>"
      ],
      "text/plain": [
       "        Quantity  UnitPrice         Country  year  month  price_total\n",
       "521516         1       3.29  United Kingdom  2011     12         3.29"
      ]
     },
     "execution_count": 12,
     "metadata": {},
     "output_type": "execute_result"
    }
   ],
   "source": [
    "df.sample()"
   ]
  },
  {
   "cell_type": "code",
   "execution_count": 13,
   "id": "f31bd0ac",
   "metadata": {},
   "outputs": [
    {
     "data": {
      "image/png": "[encoded data removed]",
      "text/plain": [
       "<Figure size 640x480 with 1 Axes>"
      ]
     },
     "metadata": {},
     "output_type": "display_data"
    }
   ],
   "source": [
    "sns.barplot(x='year', y='price_total', hue='Country', data=df);"
   ]
  },
  {
   "cell_type": "code",
   "execution_count": 14,
   "id": "b8dbfa8a",
   "metadata": {},
   "outputs": [],
   "source": [
    "df = pd.get_dummies(df, columns=[\"Country\"] )"
   ]
  },
  {
   "cell_type": "code",
   "execution_count": 15,
   "id": "f3baee2a",
   "metadata": {},
   "outputs": [
    {
     "data": {
      "text/html": [
       "<div>\n",
       "<style scoped>\n",
       "    .dataframe tbody tr th:only-of-type {\n",
       "        vertical-align: middle;\n",
       "    }\n",
       "\n",
       "    .dataframe tbody tr th {\n",
       "        vertical-align: top;\n",
       "    }\n",
       "\n",
       "    .dataframe thead th {\n",
       "        text-align: right;\n",
       "    }\n",
       "</style>\n",
       "<table border=\"1\" class=\"dataframe\">\n",
       "  <thead>\n",
       "    <tr style=\"text-align: right;\">\n",
       "      <th></th>\n",
       "      <th>Quantity</th>\n",
       "      <th>UnitPrice</th>\n",
       "      <th>year</th>\n",
       "      <th>month</th>\n",
       "      <th>price_total</th>\n",
       "      <th>Country_Australia</th>\n",
       "      <th>Country_Belgium</th>\n",
       "      <th>Country_EIRE</th>\n",
       "      <th>Country_France</th>\n",
       "      <th>Country_Germany</th>\n",
       "      <th>Country_Italy</th>\n",
       "      <th>Country_Netherlands</th>\n",
       "      <th>Country_Norway</th>\n",
       "      <th>Country_Portugal</th>\n",
       "      <th>Country_Spain</th>\n",
       "      <th>Country_Switzerland</th>\n",
       "      <th>Country_United Kingdom</th>\n",
       "    </tr>\n",
       "  </thead>\n",
       "  <tbody>\n",
       "    <tr>\n",
       "      <th>500062</th>\n",
       "      <td>1</td>\n",
       "      <td>1.65</td>\n",
       "      <td>2011</td>\n",
       "      <td>11</td>\n",
       "      <td>1.65</td>\n",
       "      <td>0</td>\n",
       "      <td>0</td>\n",
       "      <td>0</td>\n",
       "      <td>0</td>\n",
       "      <td>0</td>\n",
       "      <td>0</td>\n",
       "      <td>0</td>\n",
       "      <td>0</td>\n",
       "      <td>0</td>\n",
       "      <td>0</td>\n",
       "      <td>0</td>\n",
       "      <td>1</td>\n",
       "    </tr>\n",
       "  </tbody>\n",
       "</table>\n",
       "</div>"
      ],
      "text/plain": [
       "        Quantity  UnitPrice  year  month  price_total  Country_Australia  \\\n",
       "500062         1       1.65  2011     11         1.65                  0   \n",
       "\n",
       "        Country_Belgium  Country_EIRE  Country_France  Country_Germany  \\\n",
       "500062                0             0               0                0   \n",
       "\n",
       "        Country_Italy  Country_Netherlands  Country_Norway  Country_Portugal  \\\n",
       "500062              0                    0               0                 0   \n",
       "\n",
       "        Country_Spain  Country_Switzerland  Country_United Kingdom  \n",
       "500062              0                    0                       1  "
      ]
     },
     "execution_count": 15,
     "metadata": {},
     "output_type": "execute_result"
    }
   ],
   "source": [
    "df.sample()"
   ]
  },
  {
   "cell_type": "code",
   "execution_count": 16,
   "id": "4b7fe0aa",
   "metadata": {},
   "outputs": [
    {
     "name": "stdout",
     "output_type": "stream",
     "text": [
      "<class 'pandas.core.frame.DataFrame'>\n",
      "Int64Index: 530124 entries, 0 to 541908\n",
      "Data columns (total 17 columns):\n",
      " #   Column                  Non-Null Count   Dtype  \n",
      "---  ------                  --------------   -----  \n",
      " 0   Quantity                530124 non-null  int64  \n",
      " 1   UnitPrice               530124 non-null  float64\n",
      " 2   year                    530124 non-null  int64  \n",
      " 3   month                   530124 non-null  int64  \n",
      " 4   price_total             530124 non-null  float64\n",
      " 5   Country_Australia       530124 non-null  uint8  \n",
      " 6   Country_Belgium         530124 non-null  uint8  \n",
      " 7   Country_EIRE            530124 non-null  uint8  \n",
      " 8   Country_France          530124 non-null  uint8  \n",
      " 9   Country_Germany         530124 non-null  uint8  \n",
      " 10  Country_Italy           530124 non-null  uint8  \n",
      " 11  Country_Netherlands     530124 non-null  uint8  \n",
      " 12  Country_Norway          530124 non-null  uint8  \n",
      " 13  Country_Portugal        530124 non-null  uint8  \n",
      " 14  Country_Spain           530124 non-null  uint8  \n",
      " 15  Country_Switzerland     530124 non-null  uint8  \n",
      " 16  Country_United Kingdom  530124 non-null  uint8  \n",
      "dtypes: float64(2), int64(3), uint8(12)\n",
      "memory usage: 30.3 MB\n"
     ]
    }
   ],
   "source": [
    "df.info()"
   ]
  },
  {
   "cell_type": "markdown",
   "id": "078e735c",
   "metadata": {},
   "source": [
    "### PCA"
   ]
  },
  {
   "cell_type": "code",
   "execution_count": 17,
   "id": "13b27fdd",
   "metadata": {},
   "outputs": [],
   "source": [
    "pca = PCA(n_components=6)"
   ]
  },
  {
   "cell_type": "code",
   "execution_count": 18,
   "id": "1e019184",
   "metadata": {},
   "outputs": [],
   "source": [
    "df_pca = pca.fit_transform(df)"
   ]
  },
  {
   "cell_type": "code",
   "execution_count": 19,
   "id": "28cb45e8",
   "metadata": {},
   "outputs": [
    {
     "data": {
      "text/plain": [
       "array([[-4.75150475e-01,  3.01250348e-02, -4.92032091e-07,\n",
       "        -5.53869231e-07, -8.79388713e-01, -1.35928220e-06,\n",
       "        -5.13534187e-08, -1.33875106e-06, -5.31796838e-07,\n",
       "        -5.90386959e-07, -2.38940274e-08, -3.00026248e-06,\n",
       "        -1.81586219e-07, -2.67134705e-08, -9.69577612e-08,\n",
       "        -2.38170732e-07,  7.43915516e-06],\n",
       "       [ 5.68719312e-01,  7.73114897e-01, -3.24992437e-06,\n",
       "        -5.13136134e-05, -2.80805444e-01,  1.19322956e-06,\n",
       "        -8.92028122e-08,  2.07494552e-06,  1.20128850e-06,\n",
       "        -5.34867450e-07, -5.23086591e-08,  4.83140367e-06,\n",
       "         3.07941307e-07,  8.36581731e-07, -3.41755130e-08,\n",
       "        -1.78765782e-07, -9.55607008e-06],\n",
       "       [ 6.71409234e-01, -6.33550185e-01,  2.64181391e-05,\n",
       "        -1.03767046e-04, -3.84478597e-01,  1.71559943e-06,\n",
       "         6.95274145e-07, -2.66586149e-06,  8.79838894e-08,\n",
       "         7.24470925e-07, -2.74209887e-07,  9.50405027e-06,\n",
       "        -3.34794552e-07, -1.14989049e-06, -7.87380454e-07,\n",
       "         3.93621903e-07, -7.90886370e-06],\n",
       "       [-9.90272500e-05,  2.65917493e-05,  2.85040096e-02,\n",
       "        -9.99592944e-01,  5.50211907e-05,  2.77142534e-04,\n",
       "         5.24590982e-05, -1.63539689e-04,  4.86453152e-05,\n",
       "         3.83671266e-04,  1.84654405e-06,  2.94221410e-04,\n",
       "        -2.47870459e-04, -6.47185251e-05,  3.08695558e-04,\n",
       "         8.11873447e-05, -9.71740398e-04],\n",
       "       [ 1.51908246e-05,  7.27174592e-07, -9.72885886e-02,\n",
       "        -3.77055770e-03,  4.50784182e-07, -2.51198582e-02,\n",
       "        -4.23243233e-02, -1.96884612e-01, -2.07404426e-01,\n",
       "        -2.36172175e-01, -1.59366432e-02, -4.87404238e-02,\n",
       "        -2.16298321e-02, -3.04167765e-02, -5.22491127e-02,\n",
       "        -4.07950034e-02,  9.17673187e-01],\n",
       "       [ 1.18903283e-05, -1.86595918e-05, -9.94826622e-01,\n",
       "        -2.82691642e-02, -7.32258161e-06,  2.81274426e-03,\n",
       "         3.59268560e-03,  1.60208843e-02,  1.93796126e-02,\n",
       "         2.82069175e-02,  1.35964180e-03,  4.38776513e-03,\n",
       "         3.26003728e-03,  3.56761273e-03,  4.59316346e-03,\n",
       "         2.26977771e-03, -8.94508423e-02]])"
      ]
     },
     "execution_count": 19,
     "metadata": {},
     "output_type": "execute_result"
    }
   ],
   "source": [
    "pca.components_"
   ]
  },
  {
   "cell_type": "code",
   "execution_count": 20,
   "id": "a093f7e6",
   "metadata": {},
   "outputs": [
    {
     "data": {
      "text/plain": [
       "array([9.15172816e-01, 5.66809757e-02, 2.80848480e-02, 6.03520250e-05,\n",
       "       3.97953345e-07, 3.04674714e-07])"
      ]
     },
     "execution_count": 20,
     "metadata": {},
     "output_type": "execute_result"
    }
   ],
   "source": [
    "pca.explained_variance_ratio_ "
   ]
  },
  {
   "cell_type": "code",
   "execution_count": 21,
   "id": "5040d73b",
   "metadata": {},
   "outputs": [
    {
     "data": {
      "text/plain": [
       "0.999999694353059"
      ]
     },
     "execution_count": 21,
     "metadata": {},
     "output_type": "execute_result"
    }
   ],
   "source": [
    "np.sum([9.15172816e-01, 5.66809757e-02, 2.80848480e-02, 6.03520250e-05,\n",
    "       3.97953345e-07, 3.04674714e-07])"
   ]
  },
  {
   "cell_type": "code",
   "execution_count": 22,
   "id": "79083507",
   "metadata": {},
   "outputs": [
    {
     "data": {
      "text/plain": [
       "array(['pca0', 'pca1', 'pca2', 'pca3', 'pca4', 'pca5'], dtype=object)"
      ]
     },
     "execution_count": 22,
     "metadata": {},
     "output_type": "execute_result"
    }
   ],
   "source": [
    "pca.get_feature_names_out() "
   ]
  },
  {
   "cell_type": "code",
   "execution_count": 23,
   "id": "30aec695",
   "metadata": {},
   "outputs": [],
   "source": [
    "df = pd.DataFrame(df_pca, columns=pca.get_feature_names_out())"
   ]
  },
  {
   "cell_type": "code",
   "execution_count": 24,
   "id": "ba5a5196",
   "metadata": {
    "scrolled": true
   },
   "outputs": [
    {
     "data": {
      "text/html": [
       "<div>\n",
       "<style scoped>\n",
       "    .dataframe tbody tr th:only-of-type {\n",
       "        vertical-align: middle;\n",
       "    }\n",
       "\n",
       "    .dataframe tbody tr th {\n",
       "        vertical-align: top;\n",
       "    }\n",
       "\n",
       "    .dataframe thead th {\n",
       "        text-align: right;\n",
       "    }\n",
       "</style>\n",
       "<table border=\"1\" class=\"dataframe\">\n",
       "  <thead>\n",
       "    <tr style=\"text-align: right;\">\n",
       "      <th></th>\n",
       "      <th>pca0</th>\n",
       "      <th>pca1</th>\n",
       "      <th>pca2</th>\n",
       "      <th>pca3</th>\n",
       "      <th>pca4</th>\n",
       "      <th>pca5</th>\n",
       "    </tr>\n",
       "  </thead>\n",
       "  <tbody>\n",
       "    <tr>\n",
       "      <th>0</th>\n",
       "      <td>3.905801</td>\n",
       "      <td>-2.806549</td>\n",
       "      <td>-0.049371</td>\n",
       "      <td>-4.473171</td>\n",
       "      <td>0.153354</td>\n",
       "      <td>0.783013</td>\n",
       "    </tr>\n",
       "    <tr>\n",
       "      <th>1</th>\n",
       "      <td>-0.501013</td>\n",
       "      <td>-3.572392</td>\n",
       "      <td>-2.519325</td>\n",
       "      <td>-4.472871</td>\n",
       "      <td>0.153357</td>\n",
       "      <td>0.782961</td>\n",
       "    </tr>\n",
       "    <tr>\n",
       "      <th>2</th>\n",
       "      <td>-2.930379</td>\n",
       "      <td>-3.395884</td>\n",
       "      <td>-1.409269</td>\n",
       "      <td>-4.472995</td>\n",
       "      <td>0.153388</td>\n",
       "      <td>0.782984</td>\n",
       "    </tr>\n",
       "    <tr>\n",
       "      <th>3</th>\n",
       "      <td>-0.501013</td>\n",
       "      <td>-3.572392</td>\n",
       "      <td>-2.519325</td>\n",
       "      <td>-4.472871</td>\n",
       "      <td>0.153357</td>\n",
       "      <td>0.782961</td>\n",
       "    </tr>\n",
       "    <tr>\n",
       "      <th>4</th>\n",
       "      <td>-0.501013</td>\n",
       "      <td>-3.572392</td>\n",
       "      <td>-2.519325</td>\n",
       "      <td>-4.472871</td>\n",
       "      <td>0.153357</td>\n",
       "      <td>0.782961</td>\n",
       "    </tr>\n",
       "    <tr>\n",
       "      <th>...</th>\n",
       "      <td>...</td>\n",
       "      <td>...</td>\n",
       "      <td>...</td>\n",
       "      <td>...</td>\n",
       "      <td>...</td>\n",
       "      <td>...</td>\n",
       "    </tr>\n",
       "    <tr>\n",
       "      <th>530119</th>\n",
       "      <td>5.488560</td>\n",
       "      <td>0.723587</td>\n",
       "      <td>7.016995</td>\n",
       "      <td>-4.444567</td>\n",
       "      <td>-1.068924</td>\n",
       "      <td>-0.102842</td>\n",
       "    </tr>\n",
       "    <tr>\n",
       "      <th>530120</th>\n",
       "      <td>6.266586</td>\n",
       "      <td>-2.396268</td>\n",
       "      <td>1.273853</td>\n",
       "      <td>-4.443807</td>\n",
       "      <td>-1.069013</td>\n",
       "      <td>-0.102955</td>\n",
       "    </tr>\n",
       "    <tr>\n",
       "      <th>530121</th>\n",
       "      <td>3.761089</td>\n",
       "      <td>-3.072043</td>\n",
       "      <td>-2.905657</td>\n",
       "      <td>-4.443335</td>\n",
       "      <td>-1.069041</td>\n",
       "      <td>-0.103046</td>\n",
       "    </tr>\n",
       "    <tr>\n",
       "      <th>530122</th>\n",
       "      <td>3.761089</td>\n",
       "      <td>-3.072043</td>\n",
       "      <td>-2.905657</td>\n",
       "      <td>-4.443335</td>\n",
       "      <td>-1.069041</td>\n",
       "      <td>-0.103046</td>\n",
       "    </tr>\n",
       "    <tr>\n",
       "      <th>530123</th>\n",
       "      <td>5.799269</td>\n",
       "      <td>-2.530861</td>\n",
       "      <td>-3.411069</td>\n",
       "      <td>-4.443311</td>\n",
       "      <td>-1.069056</td>\n",
       "      <td>-0.103060</td>\n",
       "    </tr>\n",
       "  </tbody>\n",
       "</table>\n",
       "<p>530124 rows × 6 columns</p>\n",
       "</div>"
      ],
      "text/plain": [
       "            pca0      pca1      pca2      pca3      pca4      pca5\n",
       "0       3.905801 -2.806549 -0.049371 -4.473171  0.153354  0.783013\n",
       "1      -0.501013 -3.572392 -2.519325 -4.472871  0.153357  0.782961\n",
       "2      -2.930379 -3.395884 -1.409269 -4.472995  0.153388  0.782984\n",
       "3      -0.501013 -3.572392 -2.519325 -4.472871  0.153357  0.782961\n",
       "4      -0.501013 -3.572392 -2.519325 -4.472871  0.153357  0.782961\n",
       "...          ...       ...       ...       ...       ...       ...\n",
       "530119  5.488560  0.723587  7.016995 -4.444567 -1.068924 -0.102842\n",
       "530120  6.266586 -2.396268  1.273853 -4.443807 -1.069013 -0.102955\n",
       "530121  3.761089 -3.072043 -2.905657 -4.443335 -1.069041 -0.103046\n",
       "530122  3.761089 -3.072043 -2.905657 -4.443335 -1.069041 -0.103046\n",
       "530123  5.799269 -2.530861 -3.411069 -4.443311 -1.069056 -0.103060\n",
       "\n",
       "[530124 rows x 6 columns]"
      ]
     },
     "execution_count": 24,
     "metadata": {},
     "output_type": "execute_result"
    }
   ],
   "source": [
    "df"
   ]
  },
  {
   "cell_type": "code",
   "execution_count": 25,
   "id": "770462a0",
   "metadata": {},
   "outputs": [],
   "source": [
    "list_of_inirties = []\n",
    "silhouette_avg = []\n",
    "for n in range(1, len(df.columns)+1):\n",
    "    km = KMeans(n_clusters=n, init='k-means++', max_iter=300, n_init=10, random_state=0)\n",
    "    km.fit_predict(df)\n",
    "    list_of_inirties.append(km.inertia_)\n",
    "    \n",
    "    "
   ]
  },
  {
   "cell_type": "code",
   "execution_count": 26,
   "id": "72744434",
   "metadata": {
    "scrolled": true
   },
   "outputs": [
    {
     "data": {
      "text/plain": [
       "[108343251932.90112,\n",
       " 66113520063.59503,\n",
       " 23907611477.789658,\n",
       " 18687211266.776604,\n",
       " 14497660107.754492,\n",
       " 10308108948.733904]"
      ]
     },
     "execution_count": 26,
     "metadata": {},
     "output_type": "execute_result"
    }
   ],
   "source": [
    "list_of_inirties"
   ]
  },
  {
   "cell_type": "markdown",
   "id": "ff6454d7",
   "metadata": {},
   "source": [
    "### Elbow"
   ]
  },
  {
   "cell_type": "code",
   "execution_count": 27,
   "id": "14adab47",
   "metadata": {},
   "outputs": [
    {
     "data": {
      "image/png": "[encoded data removed]",
      "text/plain": [
       "<Figure size 640x480 with 1 Axes>"
      ]
     },
     "metadata": {},
     "output_type": "display_data"
    }
   ],
   "source": [
    "plt.plot(range(1, len(df.columns)+1), list_of_inirties);"
   ]
  },
  {
   "cell_type": "markdown",
   "id": "5020a3e7",
   "metadata": {},
   "source": [
    "### K-means Clustering"
   ]
  },
  {
   "cell_type": "code",
   "execution_count": null,
   "id": "f65f9f1b",
   "metadata": {},
   "outputs": [],
   "source": [
    "km = KMeans(n_clusters=3, init = 'k-means++', random_state = 42)\n",
    "df_predict = km.fit_predict(df)\n",
    "print(f'Silhouette Score(n=3): {silhouette_score(df, df_predict)}')"
   ]
  },
  {
   "cell_type": "code",
   "execution_count": null,
   "id": "9b4e1dd7",
   "metadata": {},
   "outputs": [],
   "source": [
    "df['cluster'] = df_predict"
   ]
  },
  {
   "cell_type": "code",
   "execution_count": null,
   "id": "bfbd4267",
   "metadata": {
    "scrolled": true
   },
   "outputs": [],
   "source": [
    "df['cluster'].value_counts()"
   ]
  },
  {
   "cell_type": "code",
   "execution_count": 141,
   "id": "1b8d3803",
   "metadata": {},
   "outputs": [
    {
     "data": {
      "text/html": [
       "<div>\n",
       "<style scoped>\n",
       "    .dataframe tbody tr th:only-of-type {\n",
       "        vertical-align: middle;\n",
       "    }\n",
       "\n",
       "    .dataframe tbody tr th {\n",
       "        vertical-align: top;\n",
       "    }\n",
       "\n",
       "    .dataframe thead th {\n",
       "        text-align: right;\n",
       "    }\n",
       "</style>\n",
       "<table border=\"1\" class=\"dataframe\">\n",
       "  <thead>\n",
       "    <tr style=\"text-align: right;\">\n",
       "      <th></th>\n",
       "      <th>pca0</th>\n",
       "      <th>pca1</th>\n",
       "      <th>pca2</th>\n",
       "      <th>pca3</th>\n",
       "      <th>pca4</th>\n",
       "      <th>pca5</th>\n",
       "      <th>pca6</th>\n",
       "      <th>cluster</th>\n",
       "    </tr>\n",
       "  </thead>\n",
       "  <tbody>\n",
       "    <tr>\n",
       "      <th>7252</th>\n",
       "      <td>-5.079002</td>\n",
       "      <td>-4.013304</td>\n",
       "      <td>0.794999</td>\n",
       "      <td>0.557305</td>\n",
       "      <td>-0.060411</td>\n",
       "      <td>-0.023926</td>\n",
       "      <td>3.233013e-17</td>\n",
       "      <td>1</td>\n",
       "    </tr>\n",
       "  </tbody>\n",
       "</table>\n",
       "</div>"
      ],
      "text/plain": [
       "          pca0      pca1      pca2      pca3      pca4      pca5  \\\n",
       "7252 -5.079002 -4.013304  0.794999  0.557305 -0.060411 -0.023926   \n",
       "\n",
       "              pca6  cluster  \n",
       "7252  3.233013e-17        1  "
      ]
     },
     "execution_count": 141,
     "metadata": {},
     "output_type": "execute_result"
    }
   ],
   "source": [
    "df.sample()"
   ]
  },
  {
   "cell_type": "code",
   "execution_count": 142,
   "id": "32fcab7c",
   "metadata": {},
   "outputs": [
    {
     "data": {
      "text/plain": [
       "<Axes: xlabel='pca0', ylabel='pca3'>"
      ]
     },
     "execution_count": 142,
     "metadata": {},
     "output_type": "execute_result"
    },
    {
     "data": {
      "image/png": "[encoded data removed]",
      "text/plain": [
       "<Figure size 640x480 with 1 Axes>"
      ]
     },
     "metadata": {},
     "output_type": "display_data"
    }
   ],
   "source": [
    "sns.scatterplot(x='pca0', y ='pca3', hue='cluster', data=df)"
   ]
  },
  {
   "cell_type": "code",
   "execution_count": 145,
   "id": "7dbd9e60",
   "metadata": {
    "scrolled": true
   },
   "outputs": [
    {
     "data": {
      "image/png": "[encoded data removed]",
      "text/plain": [
       "<Figure size 640x480 with 1 Axes>"
      ]
     },
     "metadata": {},
     "output_type": "display_data"
    }
   ],
   "source": [
    "df.groupby('cluster')['pca6'].sum().plot(kind='bar');"
   ]
  },
  {
   "cell_type": "markdown",
   "id": "96bb942d",
   "metadata": {},
   "source": [
    "###  Evaluation "
   ]
  },
  {
   "cell_type": "code",
   "execution_count": 147,
   "id": "fd4d442f",
   "metadata": {},
   "outputs": [
    {
     "name": "stdout",
     "output_type": "stream",
     "text": [
      "Silhouette Score(n=2): 0.9887350650440587\n"
     ]
    }
   ],
   "source": [
    "print(f'Silhouette Score(n=2): {silhouette_score(df, df_predict)}')"
   ]
  },
  {
   "cell_type": "markdown",
   "id": "8ea82479",
   "metadata": {},
   "source": [
    "### Personalization and Recommendations"
   ]
  },
  {
   "cell_type": "markdown",
   "id": "852c888f",
   "metadata": {},
   "source": [
    "1- It is recommended to increase the quantities of products in stores in countries that consume the most products, such as Netherlands, Germany, France, and the United Kingdom.\n",
    "\n",
    "2- It is recommended to improve the promotion of more products in areas where purchasing is weak\n",
    "\n",
    "3- Sending an email to customers to inform them of the latest offers"
   ]
  },
  {
   "cell_type": "markdown",
   "id": "0ae54a59",
   "metadata": {},
   "source": [
    "### Interpretation and Insights"
   ]
  },
  {
   "cell_type": "markdown",
   "id": "276d7be4",
   "metadata": {},
   "source": [
    "1 - We advise customers in the lower clustering to provide them with more services and distribute the shops more widely\n",
    "\n",
    "2 - We recommend offering coupons to those with the largest clustering, thus increasing purchases"
   ]
  },
  {
   "cell_type": "code",
   "execution_count": null,
   "id": "a4da0dfb",
   "metadata": {},
   "outputs": [],
   "source": []
  }
 ],
 "metadata": {
  "kernelspec": {
   "display_name": "Python 3 (ipykernel)",
   "language": "python",
   "name": "python3"
  },
  "language_info": {
   "codemirror_mode": {
    "name": "ipython",
    "version": 3
   },
   "file_extension": ".py",
   "mimetype": "text/x-python",
   "name": "python",
   "nbconvert_exporter": "python",
   "pygments_lexer": "ipython3",
   "version": "3.10.9"
  }
 },
 "nbformat": 4,
 "nbformat_minor": 5
}
